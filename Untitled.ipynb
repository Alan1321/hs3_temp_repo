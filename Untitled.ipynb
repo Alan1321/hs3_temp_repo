{
 "cells": [
  {
   "cell_type": "code",
   "execution_count": 1,
   "id": "2c126488",
   "metadata": {},
   "outputs": [],
   "source": [
    "from curses import flash\n",
    "import os\n",
    "from pickle import TRUE\n",
    "from re import L\n",
    "import requests\n",
    "import validators\n",
    "import gzip\n",
    "import shutil\n",
    "from urllib.parse import urlparse\n",
    "\n",
    "import sys\n",
    "import math\n",
    "import xarray as xa\n",
    "import numpy as np\n",
    "from rio_cogeo import cog_validate\n",
    "import rioxarray\n",
    "\n",
    "# Mapping\n",
    "import matplotlib as mpl\n",
    "from matplotlib import pyplot as plt\n",
    "import cartopy.crs as ccrs\n",
    "import cartopy.feature as cfeature\n",
    "from cartopy.mpl.gridliner import LONGITUDE_FORMATTER, LATITUDE_FORMATTER\n",
    "import matplotlib.ticker as mticker"
   ]
  },
  {
   "cell_type": "code",
   "execution_count": 2,
   "id": "8441d803",
   "metadata": {},
   "outputs": [],
   "source": [
    "base_path = '/home/asubedi/Desktop/work/hs3_cog_converter/'\n",
    "file_name = 'AE20141015.Gonzalo.loc.nc'\n",
    "path = '/home/asubedi/Desktop/work/hs3_cog_converter/AE20141015.Gonzalo.loc.nc'\n",
    "engine = 'netcdf4'\n",
    "variable = 'VHRMC_LIS_FRD'"
   ]
  },
  {
   "cell_type": "code",
   "execution_count": 3,
   "id": "e9f30943",
   "metadata": {},
   "outputs": [],
   "source": [
    "file1 = xa.open_dataset(path, engine=engine, decode_coords='all', decode_times=False)"
   ]
  },
  {
   "cell_type": "code",
   "execution_count": 4,
   "id": "cb3ae8cc",
   "metadata": {},
   "outputs": [
    {
     "name": "stdout",
     "output_type": "stream",
     "text": [
      "<xarray.Dataset>\n",
      "Dimensions:             (time: 17979)\n",
      "Dimensions without coordinates: time\n",
      "Data variables:\n",
      "    Time                (time) float64 ...\n",
      "    Latitude            (time) float32 ...\n",
      "    Longitude           (time) float32 ...\n",
      "    Residual_Fit_Error  (time) float32 ...\n",
      "    Number_Of_Stations  (time) int32 ...\n",
      "    Energy              (time) float32 ...\n",
      "    Energy_Uncertainty  (time) float32 ...\n",
      "    Subset_Of_Stations  (time) int32 ...\n",
      "Attributes:\n",
      "    Conventions:                       CF-1.6\n",
      "    Title:                             Hurricane and Severe Storm Sentinel (H...\n",
      "    Description:                       WWLLN stroke data subset for Tropical ...\n",
      "    Institution:                       World Wide Lightning Location Network,...\n",
      "    Source:                            Lightning location data from the World...\n",
      "    History:                           Observations from the World Wide Light...\n",
      "    References:                        Please acknowledge the WWLLN network a...\n",
      "    Comment:                           Time is to the nearest microsecond; La...\n",
      "    Scale:                             Values are stored directly as floating...\n",
      "    ProjectName:                       HS3\n",
      "    identifier_product_DOI_authority:  http://dx.doi.org/\n",
      "    identifier_product_DOI:            http://dx.doi.org/10.5067/HS3/WWLN/DAT...\n"
     ]
    }
   ],
   "source": [
    "print(file1)"
   ]
  },
  {
   "cell_type": "code",
   "execution_count": 5,
   "id": "5c5ad3e2",
   "metadata": {},
   "outputs": [
    {
     "name": "stdout",
     "output_type": "stream",
     "text": [
      "[ 7290.75  8891.25 12303.17 ...  3479.32  7863.6    622.1 ] 17979\n"
     ]
    }
   ],
   "source": [
    "print(file1.Energy.data, len(file1.Energy.data))"
   ]
  },
  {
   "cell_type": "code",
   "execution_count": 6,
   "id": "e4ef3c30",
   "metadata": {},
   "outputs": [
    {
     "name": "stdout",
     "output_type": "stream",
     "text": [
      "[21.7249 21.7501 20.9063 ... 23.8441 26.1161 26.058 ] 17979\n"
     ]
    }
   ],
   "source": [
    "print(file1.Latitude.data, len(file1.Latitude.data))\n",
    "#Create new np array here with sorted latitude\n",
    "sorted_lat = np.sort(np.copy(file1.Latitude.data), axis=0)"
   ]
  },
  {
   "cell_type": "code",
   "execution_count": 7,
   "id": "68bdc83b",
   "metadata": {},
   "outputs": [
    {
     "name": "stdout",
     "output_type": "stream",
     "text": [
      "[-66.3656 -66.3943 -62.2227 ... -45.0211 -44.8177 -44.8133] 17979\n"
     ]
    }
   ],
   "source": [
    "print(file1.Longitude.data, len(file1.Longitude.data))\n",
    "#Create new sorted np lon array here\n",
    "sorted_lon = np.sort(np.copy(file1.Longitude.data), axis=0)"
   ]
  },
  {
   "cell_type": "code",
   "execution_count": 8,
   "id": "24845f7f",
   "metadata": {},
   "outputs": [],
   "source": [
    "data_dict = []\n",
    "data_length = len(file1.Longitude.data)"
   ]
  },
  {
   "cell_type": "code",
   "execution_count": 9,
   "id": "3ad13e98",
   "metadata": {},
   "outputs": [],
   "source": [
    "for i in range(data_length):\n",
    "    data_dict.append({\n",
    "        \"latitude\":file1.Latitude.data[i],\n",
    "        \"longitude\":file1.Longitude.data[i],\n",
    "        \"value\":file1.Energy.data[i]\n",
    "    })"
   ]
  },
  {
   "cell_type": "code",
   "execution_count": 10,
   "id": "c4a811bc",
   "metadata": {},
   "outputs": [],
   "source": [
    "grid = np.zeros((data_length, data_length))"
   ]
  },
  {
   "cell_type": "code",
   "execution_count": 11,
   "id": "bd67023c",
   "metadata": {},
   "outputs": [
    {
     "name": "stdout",
     "output_type": "stream",
     "text": [
      "[[0. 0. 0. ... 0. 0. 0.]\n",
      " [0. 0. 0. ... 0. 0. 0.]\n",
      " [0. 0. 0. ... 0. 0. 0.]\n",
      " ...\n",
      " [0. 0. 0. ... 0. 0. 0.]\n",
      " [0. 0. 0. ... 0. 0. 0.]\n",
      " [0. 0. 0. ... 0. 0. 0.]]\n",
      "[16.4013 16.402  16.4031 ... 46.927  48.2211 50.5832]\n",
      "[-68.699  -68.6766 -68.6738 ... -33.3888 -32.9595 -32.0895]\n"
     ]
    }
   ],
   "source": [
    "print(grid)\n",
    "print(sorted_lat)\n",
    "print(sorted_lon)"
   ]
  },
  {
   "cell_type": "code",
   "execution_count": 12,
   "id": "278b155c",
   "metadata": {},
   "outputs": [],
   "source": [
    "def find_lat_index(lat_value):\n",
    "    index = 0\n",
    "    for lat in sorted_lat:\n",
    "        if(lat == lat_value):\n",
    "            return index\n",
    "        index = index + 1\n",
    "        \n",
    "def find_lon_index(lon_value):\n",
    "    index = 0\n",
    "    for lon in sorted_lon:\n",
    "        if(lon == lon_value):\n",
    "            return index\n",
    "        index = index + 1"
   ]
  },
  {
   "cell_type": "code",
   "execution_count": 13,
   "id": "342d07c3",
   "metadata": {},
   "outputs": [
    {
     "name": "stdout",
     "output_type": "stream",
     "text": [
      "17979\n"
     ]
    }
   ],
   "source": [
    "i = 0\n",
    "for data in data_dict:\n",
    "    lat_index = find_lat_index(data[\"latitude\"])\n",
    "    lon_index = find_lon_index(data[\"longitude\"])\n",
    "    grid[lat_index][lon_index] = data[\"value\"]\n",
    "    i = i+1\n",
    "print(i)"
   ]
  },
  {
   "cell_type": "code",
   "execution_count": null,
   "id": "699a4b0c",
   "metadata": {},
   "outputs": [],
   "source": []
  },
  {
   "cell_type": "code",
   "execution_count": 14,
   "id": "616f571e",
   "metadata": {},
   "outputs": [],
   "source": [
    "new_xarray = xa.DataArray(\n",
    "    data = grid,\n",
    "    dims=(\"latitude\", \"longitude\"),\n",
    "    coords={\n",
    "        \"latitude\":sorted_lat,\n",
    "        \"longitude\":sorted_lon\n",
    "    },\n",
    "    attrs=dict(\n",
    "        description=\"\",\n",
    "        units=\"\",\n",
    "    ),\n",
    ")"
   ]
  },
  {
   "cell_type": "code",
   "execution_count": null,
   "id": "df28f9d5",
   "metadata": {},
   "outputs": [],
   "source": [
    "new_xarray = new_xarray.transpose('latitude', 'longitude')\n",
    "new_xarray.rio.set_spatial_dims(x_dim='longitude', y_dim='latitude', inplace=True)\n",
    "new_xarray.rio.crs\n",
    "new_xarray.rio.set_crs('epsg:4326', inplace=TRUE)\n",
    "#new_xarray.plot()\n",
    "cog_path = f'{base_path}alan.tif'\n",
    "new_xarray.rio.to_raster(rf'{cog_path}', driver='COG')"
   ]
  },
  {
   "cell_type": "code",
   "execution_count": null,
   "id": "10b9422c",
   "metadata": {},
   "outputs": [],
   "source": []
  }
 ],
 "metadata": {
  "kernelspec": {
   "display_name": "Python 3 (ipykernel)",
   "language": "python",
   "name": "python3"
  },
  "language_info": {
   "codemirror_mode": {
    "name": "ipython",
    "version": 3
   },
   "file_extension": ".py",
   "mimetype": "text/x-python",
   "name": "python",
   "nbconvert_exporter": "python",
   "pygments_lexer": "ipython3",
   "version": "3.9.12"
  }
 },
 "nbformat": 4,
 "nbformat_minor": 5
}
