{
 "cells": [
  {
   "cell_type": "code",
   "execution_count": 2,
   "id": "65714528",
   "metadata": {},
   "outputs": [],
   "source": [
    "from curses import flash\n",
    "import os\n",
    "from pickle import TRUE\n",
    "from re import L\n",
    "import requests\n",
    "import validators\n",
    "import gzip\n",
    "import shutil\n",
    "from urllib.parse import urlparse\n",
    "\n",
    "import sys\n",
    "import math\n",
    "import xarray as xa\n",
    "import numpy as np\n",
    "from rio_cogeo import cog_validate\n",
    "import rioxarray\n",
    "\n",
    "# Mapping\n",
    "import matplotlib as mpl\n",
    "from matplotlib import pyplot as plt\n",
    "import cartopy.crs as ccrs\n",
    "import cartopy.feature as cfeature\n",
    "from cartopy.mpl.gridliner import LONGITUDE_FORMATTER, LATITUDE_FORMATTER\n",
    "import matplotlib.ticker as mticker"
   ]
  },
  {
   "cell_type": "code",
   "execution_count": 16,
   "id": "59459146",
   "metadata": {},
   "outputs": [],
   "source": [
    "#main variables\n",
    "base_path = '/home/asubedi/Desktop/hs3_temp_repo'\n",
    "file_name = 'AE20141015.Gonzalo.loc.nc'\n",
    "path = f'{base_path}/{file_name}'\n",
    "engine = 'netcdf4'\n",
    "var_name = 'Subset_Of_Stations'\n",
    "split_range = 10000\n",
    "current_setting = \"Full\""
   ]
  },
  {
   "cell_type": "code",
   "execution_count": 17,
   "id": "1646382a",
   "metadata": {},
   "outputs": [
    {
     "name": "stdout",
     "output_type": "stream",
     "text": [
      "<xarray.Dataset>\n",
      "Dimensions:             (time: 17979)\n",
      "Dimensions without coordinates: time\n",
      "Data variables:\n",
      "    Time                (time) float64 ...\n",
      "    Latitude            (time) float32 ...\n",
      "    Longitude           (time) float32 ...\n",
      "    Residual_Fit_Error  (time) float32 ...\n",
      "    Number_Of_Stations  (time) int32 ...\n",
      "    Energy              (time) float32 ...\n",
      "    Energy_Uncertainty  (time) float32 ...\n",
      "    Subset_Of_Stations  (time) int32 ...\n",
      "Attributes:\n",
      "    Conventions:                       CF-1.6\n",
      "    Title:                             Hurricane and Severe Storm Sentinel (H...\n",
      "    Description:                       WWLLN stroke data subset for Tropical ...\n",
      "    Institution:                       World Wide Lightning Location Network,...\n",
      "    Source:                            Lightning location data from the World...\n",
      "    History:                           Observations from the World Wide Light...\n",
      "    References:                        Please acknowledge the WWLLN network a...\n",
      "    Comment:                           Time is to the nearest microsecond; La...\n",
      "    Scale:                             Values are stored directly as floating...\n",
      "    ProjectName:                       HS3\n",
      "    identifier_product_DOI_authority:  http://dx.doi.org/\n",
      "    identifier_product_DOI:            http://dx.doi.org/10.5067/HS3/WWLN/DAT...\n"
     ]
    }
   ],
   "source": [
    "#open file here\n",
    "file1 = xa.open_dataset(path, engine=engine, decode_coords='all', decode_times=False)\n",
    "print(file1)"
   ]
  },
  {
   "cell_type": "code",
   "execution_count": 18,
   "id": "03bc18fe",
   "metadata": {},
   "outputs": [],
   "source": [
    "#lat, lon, data\n",
    "latitude = file1.Latitude.data\n",
    "longitude = file1.Longitude.data\n",
    "data = file1[var_name].data"
   ]
  },
  {
   "cell_type": "code",
   "execution_count": 19,
   "id": "5549b6da",
   "metadata": {},
   "outputs": [
    {
     "name": "stdout",
     "output_type": "stream",
     "text": [
      "[21.7249 21.7501 20.9063 ... 23.8441 26.1161 26.058 ] [-66.3656 -66.3943 -62.2227 ... -45.0211 -44.8177 -44.8133] [ 7290.75  8891.25 12303.17 ...  3479.32  7863.6    622.1 ]\n"
     ]
    }
   ],
   "source": [
    "print(latitude, longitude, data)"
   ]
  },
  {
   "cell_type": "code",
   "execution_count": 20,
   "id": "d8fd0308",
   "metadata": {},
   "outputs": [],
   "source": [
    "#split data/geolocation here -- if needed\n",
    "\n",
    "split_lat = (np.copy(latitude[0:split_range]))\n",
    "split_lon = (np.copy(longitude[0:split_range]))\n",
    "split_data = (np.copy(data[0:split_range]))"
   ]
  },
  {
   "cell_type": "code",
   "execution_count": 21,
   "id": "bde2fb7c",
   "metadata": {},
   "outputs": [
    {
     "name": "stdout",
     "output_type": "stream",
     "text": [
      "Split_Dict Complete!! 10000\n",
      "Full_Dict Complete!! 17979\n"
     ]
    }
   ],
   "source": [
    "split_dict = []\n",
    "for i in range(len(split_data)):\n",
    "    split_dict.append({\n",
    "        \"latitude\":split_lat[i], \n",
    "        \"longitude\":split_lon[i],\n",
    "        \"data\":split_data[i]\n",
    "    })\n",
    "print(\"Split_Dict Complete!!\", len(split_dict))    \n",
    "\n",
    "full_dict = []\n",
    "for i in range(len(data)):\n",
    "    full_dict.append({\n",
    "        \"latitude\":latitude[i],\n",
    "        \"longitude\":longitude[i],\n",
    "        \"data\":data[i]\n",
    "    })\n",
    "\n",
    "print(\"Full_Dict Complete!!\", len(full_dict))"
   ]
  },
  {
   "cell_type": "code",
   "execution_count": 22,
   "id": "d884ae8c",
   "metadata": {},
   "outputs": [],
   "source": [
    "#Sort geolocation here\n",
    "full_sorted_lat = np.sort(np.copy(latitude), axis=0)\n",
    "full_sorted_lon = np.sort(np.copy(longitude), axis=0)\n",
    "\n",
    "split_sorted_lat = np.sort(np.copy(split_lat), axis=0)\n",
    "split_sorted_lon = np.sort(np.copy(split_lon), axis = 0)"
   ]
  },
  {
   "cell_type": "code",
   "execution_count": 23,
   "id": "758b79c1",
   "metadata": {},
   "outputs": [],
   "source": [
    "#init grid here\n",
    "full_grid = np.zeros((len(latitude), len(latitude)))\n",
    "split_grid = np.zeros((split_range, split_range))"
   ]
  },
  {
   "cell_type": "code",
   "execution_count": 24,
   "id": "8904569c",
   "metadata": {},
   "outputs": [],
   "source": [
    "def find_full_lat_lon(lat, lon):\n",
    "    lat_index = None\n",
    "    lon_index = None\n",
    "    for i in range(len(full_sorted_lat)):\n",
    "        if(full_sorted_lat[i] == lat):\n",
    "            lat_index = i\n",
    "            break;\n",
    "    for i in range(len(full_sorted_lon)):\n",
    "        if(full_sorted_lon[i] == lon):\n",
    "            lon_index = i\n",
    "            break;\n",
    "    #print(lat_index, lon_index)\n",
    "    return [lat_index, lon_index]\n",
    "            \n",
    "def find_split_lat_lon(lat, lon):\n",
    "    lat_index = None\n",
    "    lon_index = None\n",
    "    for i in range(len(split_sorted_lat)):\n",
    "        if(split_sorted_lat[i] == lat):\n",
    "            lat_index = i\n",
    "            break;\n",
    "    for i in range(len(split_sorted_lon)):\n",
    "        if(split_sorted_lon[i] == lon):\n",
    "            lon_index = i\n",
    "            break;\n",
    "    return [lat_index, lon_index]"
   ]
  },
  {
   "cell_type": "code",
   "execution_count": 25,
   "id": "ee1ee148",
   "metadata": {},
   "outputs": [],
   "source": [
    "for di in full_dict:\n",
    "    index = find_full_lat_lon(di[\"latitude\"], di[\"longitude\"])\n",
    "    full_grid[index[0]][index[1]] = di[\"data\"]\n",
    "\n",
    "for di in split_dict:\n",
    "    index = find_split_lat_lon(di[\"latitude\"], di[\"longitude\"])\n",
    "    split_grid[index[0]][index[1]] = di[\"data\"]"
   ]
  },
  {
   "cell_type": "code",
   "execution_count": 26,
   "id": "2c8b05b8",
   "metadata": {},
   "outputs": [],
   "source": [
    "if(current_setting == 'Split'):\n",
    "    new_xarray = xa.DataArray(\n",
    "        data = split_grid,\n",
    "        dims=(\"latitude\", \"longitude\"),\n",
    "        coords={\n",
    "            \"latitude\":split_sorted_lat,\n",
    "            \"longitude\":split_sorted_lon\n",
    "        },\n",
    "        attrs=dict(\n",
    "            description=\"\",\n",
    "            units=\"\",\n",
    "        ),\n",
    "    )\n",
    "elif (current_setting == 'Full'):\n",
    "    new_xarray = xa.DataArray(\n",
    "        data = full_grid,\n",
    "        dims=(\"latitude\", \"longitude\"),\n",
    "        coords={\n",
    "            \"latitude\":full_sorted_lat,\n",
    "            \"longitude\":full_sorted_lon\n",
    "        },\n",
    "        attrs=dict(\n",
    "            description=\"\",\n",
    "            units=\"\",\n",
    "        ),\n",
    "    )\n",
    "else:\n",
    "    print(\"Please select proper current_setting\")"
   ]
  },
  {
   "cell_type": "code",
   "execution_count": 27,
   "id": "717f0960",
   "metadata": {},
   "outputs": [
    {
     "name": "stderr",
     "output_type": "stream",
     "text": [
      "ERROR 1: PROJ: proj_create_from_database: /home/asubedi/miniconda3/share/proj/proj.db lacks DATABASE.LAYOUT.VERSION.MAJOR / DATABASE.LAYOUT.VERSION.MINOR metadata. It comes from another PROJ installation.\n",
      "ERROR 1: PROJ: proj_create_from_name: /home/asubedi/miniconda3/share/proj/proj.db lacks DATABASE.LAYOUT.VERSION.MAJOR / DATABASE.LAYOUT.VERSION.MINOR metadata. It comes from another PROJ installation.\n",
      "ERROR 1: PROJ: proj_create_from_database: /home/asubedi/miniconda3/share/proj/proj.db lacks DATABASE.LAYOUT.VERSION.MAJOR / DATABASE.LAYOUT.VERSION.MINOR metadata. It comes from another PROJ installation.\n",
      "Warning 1: PROJ: proj_create_from_database: /home/asubedi/miniconda3/share/proj/proj.db lacks DATABASE.LAYOUT.VERSION.MAJOR / DATABASE.LAYOUT.VERSION.MINOR metadata. It comes from another PROJ installation.\n"
     ]
    }
   ],
   "source": [
    "new_xarray = new_xarray.transpose('latitude', 'longitude')\n",
    "new_xarray.rio.set_spatial_dims(x_dim='longitude', y_dim='latitude', inplace=True)\n",
    "new_xarray.rio.crs\n",
    "new_xarray.rio.set_crs('epsg:4326', inplace=TRUE)\n",
    "#new_xarray.plot()\n",
    "cog_path = f'{base_path}/test-cog/alan{var_name}.tif'\n",
    "new_xarray.rio.to_raster(rf'{cog_path}', driver='COG')\n"
   ]
  },
  {
   "cell_type": "code",
   "execution_count": null,
   "id": "c28a18af",
   "metadata": {},
   "outputs": [],
   "source": []
  }
 ],
 "metadata": {
  "kernelspec": {
   "display_name": "Python 3 (ipykernel)",
   "language": "python",
   "name": "python3"
  },
  "language_info": {
   "codemirror_mode": {
    "name": "ipython",
    "version": 3
   },
   "file_extension": ".py",
   "mimetype": "text/x-python",
   "name": "python",
   "nbconvert_exporter": "python",
   "pygments_lexer": "ipython3",
   "version": "3.8.10"
  }
 },
 "nbformat": 4,
 "nbformat_minor": 5
}
