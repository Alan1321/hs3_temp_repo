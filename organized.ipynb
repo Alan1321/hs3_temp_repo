{
 "cells": [
  {
   "cell_type": "code",
   "execution_count": 154,
   "id": "65714528",
   "metadata": {},
   "outputs": [],
   "source": [
    "from curses import flash\n",
    "import os\n",
    "from pickle import TRUE\n",
    "from re import L\n",
    "import requests\n",
    "import validators\n",
    "import gzip\n",
    "import shutil\n",
    "from urllib.parse import urlparse\n",
    "\n",
    "import sys\n",
    "import math\n",
    "import xarray as xa\n",
    "import numpy as np\n",
    "from rio_cogeo import cog_validate\n",
    "import rioxarray\n",
    "\n",
    "# Mapping\n",
    "import matplotlib as mpl\n",
    "from matplotlib import pyplot as plt\n",
    "import cartopy.crs as ccrs\n",
    "import cartopy.feature as cfeature\n",
    "from cartopy.mpl.gridliner import LONGITUDE_FORMATTER, LATITUDE_FORMATTER\n",
    "import matplotlib.ticker as mticker"
   ]
  },
  {
   "cell_type": "code",
   "execution_count": 155,
   "id": "59459146",
   "metadata": {},
   "outputs": [],
   "source": [
    "#main variables\n",
    "base_path = '/home/asubedi/Desktop/hs3_temp_repo'\n",
    "file_name = 'AE20141015.Gonzalo.loc.nc'\n",
    "path = f'{base_path}/{file_name}'\n",
    "engine = 'netcdf4'\n",
    "var_name = 'Subset_Of_Stations'\n",
    "split_range = 10000\n",
    "current_setting = \"Full\""
   ]
  },
  {
   "cell_type": "code",
   "execution_count": 156,
   "id": "1646382a",
   "metadata": {},
   "outputs": [
    {
     "name": "stdout",
     "output_type": "stream",
     "text": [
      "<xarray.Dataset>\n",
      "Dimensions:             (time: 17979)\n",
      "Dimensions without coordinates: time\n",
      "Data variables:\n",
      "    Time                (time) float64 ...\n",
      "    Latitude            (time) float32 ...\n",
      "    Longitude           (time) float32 ...\n",
      "    Residual_Fit_Error  (time) float32 ...\n",
      "    Number_Of_Stations  (time) int32 ...\n",
      "    Energy              (time) float32 ...\n",
      "    Energy_Uncertainty  (time) float32 ...\n",
      "    Subset_Of_Stations  (time) int32 ...\n",
      "Attributes:\n",
      "    Conventions:                       CF-1.6\n",
      "    Title:                             Hurricane and Severe Storm Sentinel (H...\n",
      "    Description:                       WWLLN stroke data subset for Tropical ...\n",
      "    Institution:                       World Wide Lightning Location Network,...\n",
      "    Source:                            Lightning location data from the World...\n",
      "    History:                           Observations from the World Wide Light...\n",
      "    References:                        Please acknowledge the WWLLN network a...\n",
      "    Comment:                           Time is to the nearest microsecond; La...\n",
      "    Scale:                             Values are stored directly as floating...\n",
      "    ProjectName:                       HS3\n",
      "    identifier_product_DOI_authority:  http://dx.doi.org/\n",
      "    identifier_product_DOI:            http://dx.doi.org/10.5067/HS3/WWLN/DAT...\n"
     ]
    }
   ],
   "source": [
    "#open file here\n",
    "file1 = xa.open_dataset(path, engine=engine, decode_coords='all', decode_times=False)\n",
    "print(file1)"
   ]
  },
  {
   "cell_type": "code",
   "execution_count": 157,
   "id": "03bc18fe",
   "metadata": {},
   "outputs": [],
   "source": [
    "#lat, lon, data\n",
    "latitude = file1.Latitude.data\n",
    "longitude = file1.Longitude.data\n",
    "data = file1[var_name].data"
   ]
  },
  {
   "cell_type": "code",
   "execution_count": 158,
   "id": "5549b6da",
   "metadata": {},
   "outputs": [
    {
     "name": "stdout",
     "output_type": "stream",
     "text": [
      "[21.7249 21.7501 20.9063 ... 23.8441 26.1161 26.058 ] [-66.3656 -66.3943 -62.2227 ... -45.0211 -44.8177 -44.8133] [ 8  6 11 ... 10  6  8]\n"
     ]
    }
   ],
   "source": [
    "print(latitude, longitude, data)"
   ]
  },
  {
   "cell_type": "code",
   "execution_count": 159,
   "id": "d8fd0308",
   "metadata": {},
   "outputs": [],
   "source": [
    "#split data/geolocation here -- if needed\n",
    "\n",
    "split_lat = (np.copy(latitude[0:split_range]))\n",
    "split_lon = (np.copy(longitude[0:split_range]))\n",
    "split_data = (np.copy(values[0:split_range]))"
   ]
  },
  {
   "cell_type": "code",
   "execution_count": 160,
   "id": "bde2fb7c",
   "metadata": {},
   "outputs": [
    {
     "name": "stdout",
     "output_type": "stream",
     "text": [
      "Split_Dict Complete!! 10000\n",
      "Full_Dict Complete!! 17979\n"
     ]
    }
   ],
   "source": [
    "split_dict = []\n",
    "for i in range(len(split_data)):\n",
    "    split_dict.append({\n",
    "        \"latitude\":split_lat[i], \n",
    "        \"longitude\":split_lon[i],\n",
    "        \"data\":split_data[i]\n",
    "    })\n",
    "print(\"Split_Dict Complete!!\", len(split_dict))    \n",
    "\n",
    "full_dict = []\n",
    "for i in range(len(data)):\n",
    "    full_dict.append({\n",
    "        \"latitude\":latitude[i],\n",
    "        \"longitude\":longitude[i],\n",
    "        \"data\":data[i]\n",
    "    })\n",
    "\n",
    "print(\"Full_Dict Complete!!\", len(full_dict))"
   ]
  },
  {
   "cell_type": "code",
   "execution_count": 161,
   "id": "d884ae8c",
   "metadata": {},
   "outputs": [],
   "source": [
    "#Sort geolocation here\n",
    "full_sorted_lat = np.sort(np.copy(latitude), axis=0)\n",
    "full_sorted_lon = np.sort(np.copy(longitude), axis=0)\n",
    "\n",
    "split_sorted_lat = np.sort(np.copy(split_lat), axis=0)\n",
    "split_sorted_lon = np.sort(np.copy(split_lon), axis = 0)"
   ]
  },
  {
   "cell_type": "code",
   "execution_count": 162,
   "id": "758b79c1",
   "metadata": {},
   "outputs": [],
   "source": [
    "#init grid here\n",
    "full_grid = np.zeros((len(latitude), len(latitude)))\n",
    "split_grid = np.zeros((split_range, split_range))"
   ]
  },
  {
   "cell_type": "code",
   "execution_count": 163,
   "id": "8904569c",
   "metadata": {},
   "outputs": [],
   "source": [
    "def find_full_lat_lon(lat, lon):\n",
    "    lat_index = None\n",
    "    lon_index = None\n",
    "    for i in range(len(full_sorted_lat)):\n",
    "        if(full_sorted_lat[i] == lat):\n",
    "            lat_index = i\n",
    "            break;\n",
    "    for i in range(len(full_sorted_lon)):\n",
    "        if(full_sorted_lon[i] == lon):\n",
    "            lon_index = i\n",
    "            break;\n",
    "    #print(lat_index, lon_index)\n",
    "    return [lat_index, lon_index]\n",
    "            \n",
    "def find_split_lat_lon(lat, lon):\n",
    "    lat_index = None\n",
    "    lon_index = None\n",
    "    for i in range(len(split_sorted_lat)):\n",
    "        if(split_sorted_lat[i] == lat):\n",
    "            lat_index = i\n",
    "            break;\n",
    "    for i in range(len(split_sorted_lon)):\n",
    "        if(split_sorted_lon[i] == lon):\n",
    "            lon_index = i\n",
    "            break;\n",
    "    return [lat_index, lon_index]"
   ]
  },
  {
   "cell_type": "code",
   "execution_count": 164,
   "id": "ee1ee148",
   "metadata": {},
   "outputs": [],
   "source": [
    "for di in full_dict:\n",
    "    index = find_full_lat_lon(di[\"latitude\"], di[\"longitude\"])\n",
    "    full_grid[index[0]][index[1]] = di[\"data\"]\n",
    "\n",
    "for di in split_dict:\n",
    "    index = find_split_lat_lon(di[\"latitude\"], di[\"longitude\"])\n",
    "    split_grid[index[0]][index[1]] = di[\"data\"]"
   ]
  },
  {
   "cell_type": "code",
   "execution_count": 165,
   "id": "2c8b05b8",
   "metadata": {},
   "outputs": [],
   "source": [
    "if(current_setting == 'Split'):\n",
    "    new_xarray = xa.DataArray(\n",
    "        data = split_grid,\n",
    "        dims=(\"latitude\", \"longitude\"),\n",
    "        coords={\n",
    "            \"latitude\":split_sorted_lat,\n",
    "            \"longitude\":split_sorted_lon\n",
    "        },\n",
    "        attrs=dict(\n",
    "            description=\"\",\n",
    "            units=\"\",\n",
    "        ),\n",
    "    )\n",
    "elif (current_setting == 'Full'):\n",
    "    new_xarray = xa.DataArray(\n",
    "        data = full_grid,\n",
    "        dims=(\"latitude\", \"longitude\"),\n",
    "        coords={\n",
    "            \"latitude\":full_sorted_lat,\n",
    "            \"longitude\":full_sorted_lon\n",
    "        },\n",
    "        attrs=dict(\n",
    "            description=\"\",\n",
    "            units=\"\",\n",
    "        ),\n",
    "    )\n",
    "else:\n",
    "    print(\"Please select proper current_setting\")"
   ]
  },
  {
   "cell_type": "code",
   "execution_count": 169,
   "id": "717f0960",
   "metadata": {},
   "outputs": [],
   "source": [
    "new_xarray = new_xarray.transpose('latitude', 'longitude')\n",
    "new_xarray.rio.set_spatial_dims(x_dim='longitude', y_dim='latitude', inplace=True)\n",
    "new_xarray.rio.crs\n",
    "new_xarray.rio.set_crs('epsg:4326', inplace=TRUE)\n",
    "#new_xarray.plot()\n",
    "# cog_path = f'{base_path}/test-cog/alan.tif'\n",
    "# new_xarray.rio.to_raster(rf'{cog_path}', driver='COG')\n"
   ]
  },
  {
   "cell_type": "code",
   "execution_count": 171,
   "id": "95f9d40c",
   "metadata": {},
   "outputs": [],
   "source": [
    "ppath = base_path + \"/alan_hs3.nc\"\n",
    "file2 = xa.open_dataset(ppath, engine=engine, decode_coords='all', decode_times=False)"
   ]
  },
  {
   "cell_type": "code",
   "execution_count": 172,
   "id": "c059a48e",
   "metadata": {},
   "outputs": [
    {
     "name": "stdout",
     "output_type": "stream",
     "text": [
      "<xarray.Dataset>\n",
      "Dimensions:                        (latitude: 17979, longitude: 17979)\n",
      "Coordinates:\n",
      "  * latitude                       (latitude) float32 16.4 16.4 ... 48.22 50.58\n",
      "  * longitude                      (longitude) float32 -68.7 -68.68 ... -32.09\n",
      "Data variables:\n",
      "    __xarray_dataarray_variable__  (latitude, longitude) float64 ...\n"
     ]
    }
   ],
   "source": [
    "print(file2)"
   ]
  },
  {
   "cell_type": "code",
   "execution_count": 176,
   "id": "7a71f04d",
   "metadata": {},
   "outputs": [
    {
     "ename": "KeyboardInterrupt",
     "evalue": "",
     "output_type": "error",
     "traceback": [
      "\u001b[0;31m---------------------------------------------------------------------------\u001b[0m",
      "\u001b[0;31mKeyboardInterrupt\u001b[0m                         Traceback (most recent call last)",
      "Cell \u001b[0;32mIn [176], line 1\u001b[0m\n\u001b[0;32m----> 1\u001b[0m \u001b[38;5;28;43mprint\u001b[39;49m\u001b[43m(\u001b[49m\u001b[43mfile2\u001b[49m\u001b[38;5;241;43m.\u001b[39;49m\u001b[43m__xarray_dataarray_variable__\u001b[49m\u001b[38;5;241;43m.\u001b[39;49m\u001b[43mdata\u001b[49m\u001b[43m)\u001b[49m\n",
      "File \u001b[0;32m~/.local/lib/python3.8/site-packages/numpy/core/arrayprint.py:1592\u001b[0m, in \u001b[0;36m_array_str_implementation\u001b[0;34m(a, max_line_width, precision, suppress_small, array2string)\u001b[0m\n\u001b[1;32m   1586\u001b[0m \u001b[38;5;28;01mif\u001b[39;00m a\u001b[38;5;241m.\u001b[39mshape \u001b[38;5;241m==\u001b[39m ():\n\u001b[1;32m   1587\u001b[0m     \u001b[38;5;66;03m# obtain a scalar and call str on it, avoiding problems for subclasses\u001b[39;00m\n\u001b[1;32m   1588\u001b[0m     \u001b[38;5;66;03m# for which indexing with () returns a 0d instead of a scalar by using\u001b[39;00m\n\u001b[1;32m   1589\u001b[0m     \u001b[38;5;66;03m# ndarray's getindex. Also guard against recursive 0d object arrays.\u001b[39;00m\n\u001b[1;32m   1590\u001b[0m     \u001b[38;5;28;01mreturn\u001b[39;00m _guarded_repr_or_str(np\u001b[38;5;241m.\u001b[39mndarray\u001b[38;5;241m.\u001b[39m\u001b[38;5;21m__getitem__\u001b[39m(a, ()))\n\u001b[0;32m-> 1592\u001b[0m \u001b[38;5;28;01mreturn\u001b[39;00m \u001b[43marray2string\u001b[49m\u001b[43m(\u001b[49m\u001b[43ma\u001b[49m\u001b[43m,\u001b[49m\u001b[43m \u001b[49m\u001b[43mmax_line_width\u001b[49m\u001b[43m,\u001b[49m\u001b[43m \u001b[49m\u001b[43mprecision\u001b[49m\u001b[43m,\u001b[49m\u001b[43m \u001b[49m\u001b[43msuppress_small\u001b[49m\u001b[43m,\u001b[49m\u001b[43m \u001b[49m\u001b[38;5;124;43m'\u001b[39;49m\u001b[38;5;124;43m \u001b[39;49m\u001b[38;5;124;43m'\u001b[39;49m\u001b[43m,\u001b[49m\u001b[43m \u001b[49m\u001b[38;5;124;43m\"\u001b[39;49m\u001b[38;5;124;43m\"\u001b[39;49m\u001b[43m)\u001b[49m\n",
      "File \u001b[0;32m~/.local/lib/python3.8/site-packages/numpy/core/arrayprint.py:736\u001b[0m, in \u001b[0;36marray2string\u001b[0;34m(a, max_line_width, precision, suppress_small, separator, prefix, style, formatter, threshold, edgeitems, sign, floatmode, suffix, legacy)\u001b[0m\n\u001b[1;32m    733\u001b[0m \u001b[38;5;28;01mif\u001b[39;00m a\u001b[38;5;241m.\u001b[39msize \u001b[38;5;241m==\u001b[39m \u001b[38;5;241m0\u001b[39m:\n\u001b[1;32m    734\u001b[0m     \u001b[38;5;28;01mreturn\u001b[39;00m \u001b[38;5;124m\"\u001b[39m\u001b[38;5;124m[]\u001b[39m\u001b[38;5;124m\"\u001b[39m\n\u001b[0;32m--> 736\u001b[0m \u001b[38;5;28;01mreturn\u001b[39;00m \u001b[43m_array2string\u001b[49m\u001b[43m(\u001b[49m\u001b[43ma\u001b[49m\u001b[43m,\u001b[49m\u001b[43m \u001b[49m\u001b[43moptions\u001b[49m\u001b[43m,\u001b[49m\u001b[43m \u001b[49m\u001b[43mseparator\u001b[49m\u001b[43m,\u001b[49m\u001b[43m \u001b[49m\u001b[43mprefix\u001b[49m\u001b[43m)\u001b[49m\n",
      "File \u001b[0;32m~/.local/lib/python3.8/site-packages/numpy/core/arrayprint.py:513\u001b[0m, in \u001b[0;36m_recursive_guard.<locals>.decorating_function.<locals>.wrapper\u001b[0;34m(self, *args, **kwargs)\u001b[0m\n\u001b[1;32m    511\u001b[0m repr_running\u001b[38;5;241m.\u001b[39madd(key)\n\u001b[1;32m    512\u001b[0m \u001b[38;5;28;01mtry\u001b[39;00m:\n\u001b[0;32m--> 513\u001b[0m     \u001b[38;5;28;01mreturn\u001b[39;00m \u001b[43mf\u001b[49m\u001b[43m(\u001b[49m\u001b[38;5;28;43mself\u001b[39;49m\u001b[43m,\u001b[49m\u001b[43m \u001b[49m\u001b[38;5;241;43m*\u001b[39;49m\u001b[43margs\u001b[49m\u001b[43m,\u001b[49m\u001b[43m \u001b[49m\u001b[38;5;241;43m*\u001b[39;49m\u001b[38;5;241;43m*\u001b[39;49m\u001b[43mkwargs\u001b[49m\u001b[43m)\u001b[49m\n\u001b[1;32m    514\u001b[0m \u001b[38;5;28;01mfinally\u001b[39;00m:\n\u001b[1;32m    515\u001b[0m     repr_running\u001b[38;5;241m.\u001b[39mdiscard(key)\n",
      "File \u001b[0;32m~/.local/lib/python3.8/site-packages/numpy/core/arrayprint.py:539\u001b[0m, in \u001b[0;36m_array2string\u001b[0;34m(a, options, separator, prefix)\u001b[0m\n\u001b[1;32m    536\u001b[0m     summary_insert \u001b[38;5;241m=\u001b[39m \u001b[38;5;124m\"\u001b[39m\u001b[38;5;124m\"\u001b[39m\n\u001b[1;32m    538\u001b[0m \u001b[38;5;66;03m# find the right formatting function for the array\u001b[39;00m\n\u001b[0;32m--> 539\u001b[0m format_function \u001b[38;5;241m=\u001b[39m \u001b[43m_get_format_function\u001b[49m\u001b[43m(\u001b[49m\u001b[43mdata\u001b[49m\u001b[43m,\u001b[49m\u001b[43m \u001b[49m\u001b[38;5;241;43m*\u001b[39;49m\u001b[38;5;241;43m*\u001b[39;49m\u001b[43moptions\u001b[49m\u001b[43m)\u001b[49m\n\u001b[1;32m    541\u001b[0m \u001b[38;5;66;03m# skip over \"[\"\u001b[39;00m\n\u001b[1;32m    542\u001b[0m next_line_prefix \u001b[38;5;241m=\u001b[39m \u001b[38;5;124m\"\u001b[39m\u001b[38;5;124m \u001b[39m\u001b[38;5;124m\"\u001b[39m\n",
      "File \u001b[0;32m~/.local/lib/python3.8/site-packages/numpy/core/arrayprint.py:472\u001b[0m, in \u001b[0;36m_get_format_function\u001b[0;34m(data, **options)\u001b[0m\n\u001b[1;32m    470\u001b[0m         \u001b[38;5;28;01mreturn\u001b[39;00m formatdict[\u001b[38;5;124m'\u001b[39m\u001b[38;5;124mlongfloat\u001b[39m\u001b[38;5;124m'\u001b[39m]()\n\u001b[1;32m    471\u001b[0m     \u001b[38;5;28;01melse\u001b[39;00m:\n\u001b[0;32m--> 472\u001b[0m         \u001b[38;5;28;01mreturn\u001b[39;00m \u001b[43mformatdict\u001b[49m\u001b[43m[\u001b[49m\u001b[38;5;124;43m'\u001b[39;49m\u001b[38;5;124;43mfloat\u001b[39;49m\u001b[38;5;124;43m'\u001b[39;49m\u001b[43m]\u001b[49m\u001b[43m(\u001b[49m\u001b[43m)\u001b[49m\n\u001b[1;32m    473\u001b[0m \u001b[38;5;28;01melif\u001b[39;00m \u001b[38;5;28missubclass\u001b[39m(dtypeobj, _nt\u001b[38;5;241m.\u001b[39mcomplexfloating):\n\u001b[1;32m    474\u001b[0m     \u001b[38;5;28;01mif\u001b[39;00m \u001b[38;5;28missubclass\u001b[39m(dtypeobj, _nt\u001b[38;5;241m.\u001b[39mclongfloat):\n",
      "File \u001b[0;32m~/.local/lib/python3.8/site-packages/numpy/core/arrayprint.py:411\u001b[0m, in \u001b[0;36m_get_formatdict.<locals>.<lambda>\u001b[0;34m()\u001b[0m\n\u001b[1;32m    403\u001b[0m \u001b[38;5;28;01mdef\u001b[39;00m \u001b[38;5;21m_get_formatdict\u001b[39m(data, \u001b[38;5;241m*\u001b[39m, precision, floatmode, suppress, sign, legacy,\n\u001b[1;32m    404\u001b[0m                     formatter, \u001b[38;5;241m*\u001b[39m\u001b[38;5;241m*\u001b[39mkwargs):\n\u001b[1;32m    405\u001b[0m     \u001b[38;5;66;03m# note: extra arguments in kwargs are ignored\u001b[39;00m\n\u001b[1;32m    406\u001b[0m \n\u001b[1;32m    407\u001b[0m     \u001b[38;5;66;03m# wrapped in lambdas to avoid taking a code path with the wrong type of data\u001b[39;00m\n\u001b[1;32m    408\u001b[0m     formatdict \u001b[38;5;241m=\u001b[39m {\n\u001b[1;32m    409\u001b[0m         \u001b[38;5;124m'\u001b[39m\u001b[38;5;124mbool\u001b[39m\u001b[38;5;124m'\u001b[39m: \u001b[38;5;28;01mlambda\u001b[39;00m: BoolFormat(data),\n\u001b[1;32m    410\u001b[0m         \u001b[38;5;124m'\u001b[39m\u001b[38;5;124mint\u001b[39m\u001b[38;5;124m'\u001b[39m: \u001b[38;5;28;01mlambda\u001b[39;00m: IntegerFormat(data),\n\u001b[0;32m--> 411\u001b[0m         \u001b[38;5;124m'\u001b[39m\u001b[38;5;124mfloat\u001b[39m\u001b[38;5;124m'\u001b[39m: \u001b[38;5;28;01mlambda\u001b[39;00m: \u001b[43mFloatingFormat\u001b[49m\u001b[43m(\u001b[49m\n\u001b[1;32m    412\u001b[0m \u001b[43m            \u001b[49m\u001b[43mdata\u001b[49m\u001b[43m,\u001b[49m\u001b[43m \u001b[49m\u001b[43mprecision\u001b[49m\u001b[43m,\u001b[49m\u001b[43m \u001b[49m\u001b[43mfloatmode\u001b[49m\u001b[43m,\u001b[49m\u001b[43m \u001b[49m\u001b[43msuppress\u001b[49m\u001b[43m,\u001b[49m\u001b[43m \u001b[49m\u001b[43msign\u001b[49m\u001b[43m,\u001b[49m\u001b[43m \u001b[49m\u001b[43mlegacy\u001b[49m\u001b[38;5;241;43m=\u001b[39;49m\u001b[43mlegacy\u001b[49m\u001b[43m)\u001b[49m,\n\u001b[1;32m    413\u001b[0m         \u001b[38;5;124m'\u001b[39m\u001b[38;5;124mlongfloat\u001b[39m\u001b[38;5;124m'\u001b[39m: \u001b[38;5;28;01mlambda\u001b[39;00m: FloatingFormat(\n\u001b[1;32m    414\u001b[0m             data, precision, floatmode, suppress, sign, legacy\u001b[38;5;241m=\u001b[39mlegacy),\n\u001b[1;32m    415\u001b[0m         \u001b[38;5;124m'\u001b[39m\u001b[38;5;124mcomplexfloat\u001b[39m\u001b[38;5;124m'\u001b[39m: \u001b[38;5;28;01mlambda\u001b[39;00m: ComplexFloatingFormat(\n\u001b[1;32m    416\u001b[0m             data, precision, floatmode, suppress, sign, legacy\u001b[38;5;241m=\u001b[39mlegacy),\n\u001b[1;32m    417\u001b[0m         \u001b[38;5;124m'\u001b[39m\u001b[38;5;124mlongcomplexfloat\u001b[39m\u001b[38;5;124m'\u001b[39m: \u001b[38;5;28;01mlambda\u001b[39;00m: ComplexFloatingFormat(\n\u001b[1;32m    418\u001b[0m             data, precision, floatmode, suppress, sign, legacy\u001b[38;5;241m=\u001b[39mlegacy),\n\u001b[1;32m    419\u001b[0m         \u001b[38;5;124m'\u001b[39m\u001b[38;5;124mdatetime\u001b[39m\u001b[38;5;124m'\u001b[39m: \u001b[38;5;28;01mlambda\u001b[39;00m: DatetimeFormat(data, legacy\u001b[38;5;241m=\u001b[39mlegacy),\n\u001b[1;32m    420\u001b[0m         \u001b[38;5;124m'\u001b[39m\u001b[38;5;124mtimedelta\u001b[39m\u001b[38;5;124m'\u001b[39m: \u001b[38;5;28;01mlambda\u001b[39;00m: TimedeltaFormat(data),\n\u001b[1;32m    421\u001b[0m         \u001b[38;5;124m'\u001b[39m\u001b[38;5;124mobject\u001b[39m\u001b[38;5;124m'\u001b[39m: \u001b[38;5;28;01mlambda\u001b[39;00m: _object_format,\n\u001b[1;32m    422\u001b[0m         \u001b[38;5;124m'\u001b[39m\u001b[38;5;124mvoid\u001b[39m\u001b[38;5;124m'\u001b[39m: \u001b[38;5;28;01mlambda\u001b[39;00m: str_format,\n\u001b[1;32m    423\u001b[0m         \u001b[38;5;124m'\u001b[39m\u001b[38;5;124mnumpystr\u001b[39m\u001b[38;5;124m'\u001b[39m: \u001b[38;5;28;01mlambda\u001b[39;00m: repr_format}\n\u001b[1;32m    425\u001b[0m     \u001b[38;5;66;03m# we need to wrap values in `formatter` in a lambda, so that the interface\u001b[39;00m\n\u001b[1;32m    426\u001b[0m     \u001b[38;5;66;03m# is the same as the above values.\u001b[39;00m\n\u001b[1;32m    427\u001b[0m     \u001b[38;5;28;01mdef\u001b[39;00m \u001b[38;5;21mindirect\u001b[39m(x):\n",
      "File \u001b[0;32m~/.local/lib/python3.8/site-packages/numpy/core/arrayprint.py:932\u001b[0m, in \u001b[0;36mFloatingFormat.__init__\u001b[0;34m(self, data, precision, floatmode, suppress_small, sign, legacy)\u001b[0m\n\u001b[1;32m    929\u001b[0m \u001b[38;5;28mself\u001b[39m\u001b[38;5;241m.\u001b[39mexp_format \u001b[38;5;241m=\u001b[39m \u001b[38;5;28;01mFalse\u001b[39;00m\n\u001b[1;32m    930\u001b[0m \u001b[38;5;28mself\u001b[39m\u001b[38;5;241m.\u001b[39mlarge_exponent \u001b[38;5;241m=\u001b[39m \u001b[38;5;28;01mFalse\u001b[39;00m\n\u001b[0;32m--> 932\u001b[0m \u001b[38;5;28;43mself\u001b[39;49m\u001b[38;5;241;43m.\u001b[39;49m\u001b[43mfillFormat\u001b[49m\u001b[43m(\u001b[49m\u001b[43mdata\u001b[49m\u001b[43m)\u001b[49m\n",
      "File \u001b[0;32m~/.local/lib/python3.8/site-packages/numpy/core/arrayprint.py:989\u001b[0m, in \u001b[0;36mFloatingFormat.fillFormat\u001b[0;34m(self, data)\u001b[0m\n\u001b[1;32m    983\u001b[0m     trim, unique \u001b[38;5;241m=\u001b[39m \u001b[38;5;124m'\u001b[39m\u001b[38;5;124mk\u001b[39m\u001b[38;5;124m'\u001b[39m, \u001b[38;5;28;01mFalse\u001b[39;00m\n\u001b[1;32m    984\u001b[0m strs \u001b[38;5;241m=\u001b[39m (dragon4_positional(x, precision\u001b[38;5;241m=\u001b[39m\u001b[38;5;28mself\u001b[39m\u001b[38;5;241m.\u001b[39mprecision,\n\u001b[1;32m    985\u001b[0m                            fractional\u001b[38;5;241m=\u001b[39m\u001b[38;5;28;01mTrue\u001b[39;00m,\n\u001b[1;32m    986\u001b[0m                            unique\u001b[38;5;241m=\u001b[39munique, trim\u001b[38;5;241m=\u001b[39mtrim,\n\u001b[1;32m    987\u001b[0m                            sign\u001b[38;5;241m=\u001b[39m\u001b[38;5;28mself\u001b[39m\u001b[38;5;241m.\u001b[39msign \u001b[38;5;241m==\u001b[39m \u001b[38;5;124m'\u001b[39m\u001b[38;5;124m+\u001b[39m\u001b[38;5;124m'\u001b[39m)\n\u001b[1;32m    988\u001b[0m         \u001b[38;5;28;01mfor\u001b[39;00m x \u001b[38;5;129;01min\u001b[39;00m finite_vals)\n\u001b[0;32m--> 989\u001b[0m int_part, frac_part \u001b[38;5;241m=\u001b[39m \u001b[38;5;28;43mzip\u001b[39;49m\u001b[43m(\u001b[49m\u001b[38;5;241;43m*\u001b[39;49m\u001b[43m(\u001b[49m\u001b[43ms\u001b[49m\u001b[38;5;241;43m.\u001b[39;49m\u001b[43msplit\u001b[49m\u001b[43m(\u001b[49m\u001b[38;5;124;43m'\u001b[39;49m\u001b[38;5;124;43m.\u001b[39;49m\u001b[38;5;124;43m'\u001b[39;49m\u001b[43m)\u001b[49m\u001b[43m \u001b[49m\u001b[38;5;28;43;01mfor\u001b[39;49;00m\u001b[43m \u001b[49m\u001b[43ms\u001b[49m\u001b[43m \u001b[49m\u001b[38;5;129;43;01min\u001b[39;49;00m\u001b[43m \u001b[49m\u001b[43mstrs\u001b[49m\u001b[43m)\u001b[49m\u001b[43m)\u001b[49m\n\u001b[1;32m    990\u001b[0m \u001b[38;5;28;01mif\u001b[39;00m \u001b[38;5;28mself\u001b[39m\u001b[38;5;241m.\u001b[39m_legacy \u001b[38;5;241m<\u001b[39m\u001b[38;5;241m=\u001b[39m \u001b[38;5;241m113\u001b[39m:\n\u001b[1;32m    991\u001b[0m     \u001b[38;5;28mself\u001b[39m\u001b[38;5;241m.\u001b[39mpad_left \u001b[38;5;241m=\u001b[39m \u001b[38;5;241m1\u001b[39m \u001b[38;5;241m+\u001b[39m \u001b[38;5;28mmax\u001b[39m(\u001b[38;5;28mlen\u001b[39m(s\u001b[38;5;241m.\u001b[39mlstrip(\u001b[38;5;124m'\u001b[39m\u001b[38;5;124m-+\u001b[39m\u001b[38;5;124m'\u001b[39m)) \u001b[38;5;28;01mfor\u001b[39;00m s \u001b[38;5;129;01min\u001b[39;00m int_part)\n",
      "File \u001b[0;32m~/.local/lib/python3.8/site-packages/numpy/core/arrayprint.py:989\u001b[0m, in \u001b[0;36m<genexpr>\u001b[0;34m(.0)\u001b[0m\n\u001b[1;32m    983\u001b[0m     trim, unique \u001b[38;5;241m=\u001b[39m \u001b[38;5;124m'\u001b[39m\u001b[38;5;124mk\u001b[39m\u001b[38;5;124m'\u001b[39m, \u001b[38;5;28;01mFalse\u001b[39;00m\n\u001b[1;32m    984\u001b[0m strs \u001b[38;5;241m=\u001b[39m (dragon4_positional(x, precision\u001b[38;5;241m=\u001b[39m\u001b[38;5;28mself\u001b[39m\u001b[38;5;241m.\u001b[39mprecision,\n\u001b[1;32m    985\u001b[0m                            fractional\u001b[38;5;241m=\u001b[39m\u001b[38;5;28;01mTrue\u001b[39;00m,\n\u001b[1;32m    986\u001b[0m                            unique\u001b[38;5;241m=\u001b[39munique, trim\u001b[38;5;241m=\u001b[39mtrim,\n\u001b[1;32m    987\u001b[0m                            sign\u001b[38;5;241m=\u001b[39m\u001b[38;5;28mself\u001b[39m\u001b[38;5;241m.\u001b[39msign \u001b[38;5;241m==\u001b[39m \u001b[38;5;124m'\u001b[39m\u001b[38;5;124m+\u001b[39m\u001b[38;5;124m'\u001b[39m)\n\u001b[1;32m    988\u001b[0m         \u001b[38;5;28;01mfor\u001b[39;00m x \u001b[38;5;129;01min\u001b[39;00m finite_vals)\n\u001b[0;32m--> 989\u001b[0m int_part, frac_part \u001b[38;5;241m=\u001b[39m \u001b[38;5;28mzip\u001b[39m(\u001b[38;5;241m*\u001b[39m(\u001b[43ms\u001b[49m\u001b[38;5;241;43m.\u001b[39;49m\u001b[43msplit\u001b[49m\u001b[43m(\u001b[49m\u001b[38;5;124;43m'\u001b[39;49m\u001b[38;5;124;43m.\u001b[39;49m\u001b[38;5;124;43m'\u001b[39;49m\u001b[43m)\u001b[49m \u001b[38;5;28;01mfor\u001b[39;00m s \u001b[38;5;129;01min\u001b[39;00m strs))\n\u001b[1;32m    990\u001b[0m \u001b[38;5;28;01mif\u001b[39;00m \u001b[38;5;28mself\u001b[39m\u001b[38;5;241m.\u001b[39m_legacy \u001b[38;5;241m<\u001b[39m\u001b[38;5;241m=\u001b[39m \u001b[38;5;241m113\u001b[39m:\n\u001b[1;32m    991\u001b[0m     \u001b[38;5;28mself\u001b[39m\u001b[38;5;241m.\u001b[39mpad_left \u001b[38;5;241m=\u001b[39m \u001b[38;5;241m1\u001b[39m \u001b[38;5;241m+\u001b[39m \u001b[38;5;28mmax\u001b[39m(\u001b[38;5;28mlen\u001b[39m(s\u001b[38;5;241m.\u001b[39mlstrip(\u001b[38;5;124m'\u001b[39m\u001b[38;5;124m-+\u001b[39m\u001b[38;5;124m'\u001b[39m)) \u001b[38;5;28;01mfor\u001b[39;00m s \u001b[38;5;129;01min\u001b[39;00m int_part)\n",
      "\u001b[0;31mKeyboardInterrupt\u001b[0m: "
     ]
    }
   ],
   "source": [
    "print(file2.__xarray_dataarray_variable__.data)"
   ]
  },
  {
   "cell_type": "code",
   "execution_count": null,
   "id": "7d5e3d93",
   "metadata": {},
   "outputs": [],
   "source": []
  }
 ],
 "metadata": {
  "kernelspec": {
   "display_name": "Python 3 (ipykernel)",
   "language": "python",
   "name": "python3"
  },
  "language_info": {
   "codemirror_mode": {
    "name": "ipython",
    "version": 3
   },
   "file_extension": ".py",
   "mimetype": "text/x-python",
   "name": "python",
   "nbconvert_exporter": "python",
   "pygments_lexer": "ipython3",
   "version": "3.8.10"
  }
 },
 "nbformat": 4,
 "nbformat_minor": 5
}
